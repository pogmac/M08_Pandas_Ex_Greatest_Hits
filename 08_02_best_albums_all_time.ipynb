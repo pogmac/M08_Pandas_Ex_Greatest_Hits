{
 "cells": [
  {
   "cell_type": "code",
   "execution_count": null,
   "id": "8d8514e9",
   "metadata": {},
   "outputs": [],
   "source": [
    "1 Zamień nagłówki kolumn na polskie odpowiedniki: ['TYTUŁ','ARTYSTA','ROK','MAX POZ']\n",
    "2 Ilu pojedynczych artystów znajduje się na liście?\n",
    "3 Które zespoły pojawiają się najczęściej na liście?\n",
    "4 Zmień nagłówki kolumn, tak aby każdy z nich rozpoczynał się od wielkiej litery, a pozostałe były wprowadzone małymi literami.\n",
    "5 Wyrzuć z tabeli kolumnę ‘Max Poz’.\n",
    "6 W którym roku wyszło najwięcej albumów znajdujących się na liście?\n",
    "7 Ile albumów wydanych między 1960 a 1990 rokiem włącznie znajduje się na liście?\n",
    "8 W którym roku wydany został najmłodszy album na liście?\n",
    "9 Przygotuj listę najwcześniej wydanych albumów każdego artysty, który znalazł się na liście.\n",
    "10 Listę zapisz do pliku csv."
   ]
  },
  {
   "cell_type": "code",
   "execution_count": 248,
   "id": "c49524e2",
   "metadata": {},
   "outputs": [],
   "source": [
    "import pandas as pd"
   ]
  },
  {
   "cell_type": "code",
   "execution_count": 249,
   "id": "8196c1eb",
   "metadata": {},
   "outputs": [],
   "source": [
    "data = pd.read_html('https://www.officialcharts.com/chart-news/the-best-selling-albums-of-all-time-on-the-official-uk-chart__15551', header=0)"
   ]
  },
  {
   "cell_type": "code",
   "execution_count": 279,
   "id": "f28df584",
   "metadata": {},
   "outputs": [
    {
     "data": {
      "text/html": [
       "<div>\n",
       "<style scoped>\n",
       "    .dataframe tbody tr th:only-of-type {\n",
       "        vertical-align: middle;\n",
       "    }\n",
       "\n",
       "    .dataframe tbody tr th {\n",
       "        vertical-align: top;\n",
       "    }\n",
       "\n",
       "    .dataframe thead th {\n",
       "        text-align: right;\n",
       "    }\n",
       "</style>\n",
       "<table border=\"1\" class=\"dataframe\">\n",
       "  <thead>\n",
       "    <tr style=\"text-align: right;\">\n",
       "      <th></th>\n",
       "      <th>POS</th>\n",
       "      <th>TITLE</th>\n",
       "      <th>ARTIST</th>\n",
       "      <th>YEAR</th>\n",
       "      <th>HIGH POSN</th>\n",
       "    </tr>\n",
       "  </thead>\n",
       "  <tbody>\n",
       "    <tr>\n",
       "      <th>0</th>\n",
       "      <td>1</td>\n",
       "      <td>GREATEST HITS</td>\n",
       "      <td>QUEEN</td>\n",
       "      <td>1981</td>\n",
       "      <td>1</td>\n",
       "    </tr>\n",
       "    <tr>\n",
       "      <th>1</th>\n",
       "      <td>2</td>\n",
       "      <td>GOLD - GREATEST HITS</td>\n",
       "      <td>ABBA</td>\n",
       "      <td>1992</td>\n",
       "      <td>1</td>\n",
       "    </tr>\n",
       "    <tr>\n",
       "      <th>2</th>\n",
       "      <td>3</td>\n",
       "      <td>SGT PEPPER'S LONELY HEARTS CLUB BAND</td>\n",
       "      <td>BEATLES</td>\n",
       "      <td>1967</td>\n",
       "      <td>1</td>\n",
       "    </tr>\n",
       "    <tr>\n",
       "      <th>58</th>\n",
       "      <td>59</td>\n",
       "      <td>NEVER FORGET - THE ULTIMATE COLLECTION</td>\n",
       "      <td>TAKE THAT</td>\n",
       "      <td>2005</td>\n",
       "      <td>2</td>\n",
       "    </tr>\n",
       "    <tr>\n",
       "      <th>59</th>\n",
       "      <td>60</td>\n",
       "      <td>AUTOMATIC FOR THE PEOPLE</td>\n",
       "      <td>REM</td>\n",
       "      <td>1992</td>\n",
       "      <td>1</td>\n",
       "    </tr>\n",
       "  </tbody>\n",
       "</table>\n",
       "</div>"
      ],
      "text/plain": [
       "    POS                                   TITLE     ARTIST  YEAR  HIGH POSN\n",
       "0     1                           GREATEST HITS      QUEEN  1981          1\n",
       "1     2                    GOLD - GREATEST HITS       ABBA  1992          1\n",
       "2     3    SGT PEPPER'S LONELY HEARTS CLUB BAND    BEATLES  1967          1\n",
       "58   59  NEVER FORGET - THE ULTIMATE COLLECTION  TAKE THAT  2005          2\n",
       "59   60                AUTOMATIC FOR THE PEOPLE        REM  1992          1"
      ]
     },
     "execution_count": 279,
     "metadata": {},
     "output_type": "execute_result"
    }
   ],
   "source": [
    "data[0].iloc[[0,1,2,-2,-1],:]"
   ]
  },
  {
   "cell_type": "code",
   "execution_count": 254,
   "id": "997489af",
   "metadata": {},
   "outputs": [],
   "source": [
    "data[0].rename(columns={'TITLE':'TYTUŁ','ARTIST':'ARTYSTA','YEAR':'ROK','HIGH POSN':'MAX POZ'})\n",
    "dfrename = data[0].rename(columns={'TITLE':'TYTUŁ','ARTIST':'ARTYSTA','YEAR':'ROK','HIGH POSN':'MAX POZ'})"
   ]
  },
  {
   "cell_type": "code",
   "execution_count": 255,
   "id": "a17631f3",
   "metadata": {},
   "outputs": [
    {
     "data": {
      "text/plain": [
       "pandas.core.frame.DataFrame"
      ]
     },
     "execution_count": 255,
     "metadata": {},
     "output_type": "execute_result"
    }
   ],
   "source": [
    "type(dfrename)"
   ]
  },
  {
   "cell_type": "code",
   "execution_count": 256,
   "id": "b48859b6",
   "metadata": {},
   "outputs": [],
   "source": [
    "# 1 Change Headers to ['TYTUŁ','ARTYSTA','ROK','MAX POZ']\n",
    "dfrename.rename(columns={'TITLE':'TYTUŁ','ARTIST':'ARTYSTA','YEAR':'ROK','HIGH POSN':'MAX POZ'},inplace =True)"
   ]
  },
  {
   "cell_type": "code",
   "execution_count": 278,
   "id": "9cc812b4",
   "metadata": {},
   "outputs": [
    {
     "data": {
      "text/html": [
       "<div>\n",
       "<style scoped>\n",
       "    .dataframe tbody tr th:only-of-type {\n",
       "        vertical-align: middle;\n",
       "    }\n",
       "\n",
       "    .dataframe tbody tr th {\n",
       "        vertical-align: top;\n",
       "    }\n",
       "\n",
       "    .dataframe thead th {\n",
       "        text-align: right;\n",
       "    }\n",
       "</style>\n",
       "<table border=\"1\" class=\"dataframe\">\n",
       "  <thead>\n",
       "    <tr style=\"text-align: right;\">\n",
       "      <th></th>\n",
       "      <th>Pos</th>\n",
       "      <th>Tytuł</th>\n",
       "      <th>Artysta</th>\n",
       "      <th>Rok</th>\n",
       "    </tr>\n",
       "  </thead>\n",
       "  <tbody>\n",
       "    <tr>\n",
       "      <th>0</th>\n",
       "      <td>1</td>\n",
       "      <td>GREATEST HITS</td>\n",
       "      <td>QUEEN</td>\n",
       "      <td>1981</td>\n",
       "    </tr>\n",
       "    <tr>\n",
       "      <th>1</th>\n",
       "      <td>2</td>\n",
       "      <td>GOLD - GREATEST HITS</td>\n",
       "      <td>ABBA</td>\n",
       "      <td>1992</td>\n",
       "    </tr>\n",
       "    <tr>\n",
       "      <th>2</th>\n",
       "      <td>3</td>\n",
       "      <td>SGT PEPPER'S LONELY HEARTS CLUB BAND</td>\n",
       "      <td>BEATLES</td>\n",
       "      <td>1967</td>\n",
       "    </tr>\n",
       "    <tr>\n",
       "      <th>58</th>\n",
       "      <td>59</td>\n",
       "      <td>NEVER FORGET - THE ULTIMATE COLLECTION</td>\n",
       "      <td>TAKE THAT</td>\n",
       "      <td>2005</td>\n",
       "    </tr>\n",
       "    <tr>\n",
       "      <th>59</th>\n",
       "      <td>60</td>\n",
       "      <td>AUTOMATIC FOR THE PEOPLE</td>\n",
       "      <td>REM</td>\n",
       "      <td>1992</td>\n",
       "    </tr>\n",
       "  </tbody>\n",
       "</table>\n",
       "</div>"
      ],
      "text/plain": [
       "    Pos                                   Tytuł    Artysta   Rok\n",
       "0     1                           GREATEST HITS      QUEEN  1981\n",
       "1     2                    GOLD - GREATEST HITS       ABBA  1992\n",
       "2     3    SGT PEPPER'S LONELY HEARTS CLUB BAND    BEATLES  1967\n",
       "58   59  NEVER FORGET - THE ULTIMATE COLLECTION  TAKE THAT  2005\n",
       "59   60                AUTOMATIC FOR THE PEOPLE        REM  1992"
      ]
     },
     "execution_count": 278,
     "metadata": {},
     "output_type": "execute_result"
    }
   ],
   "source": [
    "dfrename.iloc[[0,1,2,-2,-1],:]"
   ]
  },
  {
   "cell_type": "code",
   "execution_count": 258,
   "id": "41bce56b",
   "metadata": {},
   "outputs": [],
   "source": [
    "albums = dfrename"
   ]
  },
  {
   "cell_type": "code",
   "execution_count": 259,
   "id": "a785cce9",
   "metadata": {},
   "outputs": [
    {
     "data": {
      "text/plain": [
       "47"
      ]
     },
     "execution_count": 259,
     "metadata": {},
     "output_type": "execute_result"
    }
   ],
   "source": [
    "# 2 Unique artists on the list:\n",
    "len(albums['ARTYSTA'].unique())"
   ]
  },
  {
   "cell_type": "code",
   "execution_count": 260,
   "id": "87a84839",
   "metadata": {},
   "outputs": [],
   "source": [
    "# 3 Most frequent bands"
   ]
  },
  {
   "cell_type": "code",
   "execution_count": 261,
   "id": "0d87b4a2",
   "metadata": {},
   "outputs": [
    {
     "data": {
      "text/plain": [
       "COLDPLAY     3\n",
       "TAKE THAT    3\n",
       "Name: Artysta, dtype: int64"
      ]
     },
     "execution_count": 261,
     "metadata": {},
     "output_type": "execute_result"
    }
   ],
   "source": [
    "albums['ARTYSTA'].value_counts()\n",
    "#arList = albums['Artysta'].value_counts()\n",
    "arList[arList == max(arList)]"
   ]
  },
  {
   "cell_type": "code",
   "execution_count": null,
   "id": "391a3b95",
   "metadata": {},
   "outputs": [],
   "source": [
    "#4 Change column header. First letter Capital rest low"
   ]
  },
  {
   "cell_type": "code",
   "execution_count": 277,
   "id": "da7ea8ce",
   "metadata": {},
   "outputs": [
    {
     "data": {
      "text/html": [
       "<div>\n",
       "<style scoped>\n",
       "    .dataframe tbody tr th:only-of-type {\n",
       "        vertical-align: middle;\n",
       "    }\n",
       "\n",
       "    .dataframe tbody tr th {\n",
       "        vertical-align: top;\n",
       "    }\n",
       "\n",
       "    .dataframe thead th {\n",
       "        text-align: right;\n",
       "    }\n",
       "</style>\n",
       "<table border=\"1\" class=\"dataframe\">\n",
       "  <thead>\n",
       "    <tr style=\"text-align: right;\">\n",
       "      <th></th>\n",
       "      <th>Pos</th>\n",
       "      <th>Tytuł</th>\n",
       "      <th>Artysta</th>\n",
       "      <th>Rok</th>\n",
       "    </tr>\n",
       "  </thead>\n",
       "  <tbody>\n",
       "    <tr>\n",
       "      <th>0</th>\n",
       "      <td>1</td>\n",
       "      <td>GREATEST HITS</td>\n",
       "      <td>QUEEN</td>\n",
       "      <td>1981</td>\n",
       "    </tr>\n",
       "    <tr>\n",
       "      <th>1</th>\n",
       "      <td>2</td>\n",
       "      <td>GOLD - GREATEST HITS</td>\n",
       "      <td>ABBA</td>\n",
       "      <td>1992</td>\n",
       "    </tr>\n",
       "    <tr>\n",
       "      <th>2</th>\n",
       "      <td>3</td>\n",
       "      <td>SGT PEPPER'S LONELY HEARTS CLUB BAND</td>\n",
       "      <td>BEATLES</td>\n",
       "      <td>1967</td>\n",
       "    </tr>\n",
       "    <tr>\n",
       "      <th>58</th>\n",
       "      <td>59</td>\n",
       "      <td>NEVER FORGET - THE ULTIMATE COLLECTION</td>\n",
       "      <td>TAKE THAT</td>\n",
       "      <td>2005</td>\n",
       "    </tr>\n",
       "    <tr>\n",
       "      <th>59</th>\n",
       "      <td>60</td>\n",
       "      <td>AUTOMATIC FOR THE PEOPLE</td>\n",
       "      <td>REM</td>\n",
       "      <td>1992</td>\n",
       "    </tr>\n",
       "  </tbody>\n",
       "</table>\n",
       "</div>"
      ],
      "text/plain": [
       "    Pos                                   Tytuł    Artysta   Rok\n",
       "0     1                           GREATEST HITS      QUEEN  1981\n",
       "1     2                    GOLD - GREATEST HITS       ABBA  1992\n",
       "2     3    SGT PEPPER'S LONELY HEARTS CLUB BAND    BEATLES  1967\n",
       "58   59  NEVER FORGET - THE ULTIMATE COLLECTION  TAKE THAT  2005\n",
       "59   60                AUTOMATIC FOR THE PEOPLE        REM  1992"
      ]
     },
     "execution_count": 277,
     "metadata": {},
     "output_type": "execute_result"
    }
   ],
   "source": [
    "#albums.columns = albums.columns.str.title()\n",
    "albums.iloc[[0,1,2,-2,-1],:]"
   ]
  },
  {
   "cell_type": "code",
   "execution_count": 276,
   "id": "db0ee682",
   "metadata": {},
   "outputs": [
    {
     "data": {
      "text/html": [
       "<div>\n",
       "<style scoped>\n",
       "    .dataframe tbody tr th:only-of-type {\n",
       "        vertical-align: middle;\n",
       "    }\n",
       "\n",
       "    .dataframe tbody tr th {\n",
       "        vertical-align: top;\n",
       "    }\n",
       "\n",
       "    .dataframe thead th {\n",
       "        text-align: right;\n",
       "    }\n",
       "</style>\n",
       "<table border=\"1\" class=\"dataframe\">\n",
       "  <thead>\n",
       "    <tr style=\"text-align: right;\">\n",
       "      <th></th>\n",
       "      <th>Pos</th>\n",
       "      <th>Tytuł</th>\n",
       "      <th>Artysta</th>\n",
       "      <th>Rok</th>\n",
       "    </tr>\n",
       "  </thead>\n",
       "  <tbody>\n",
       "    <tr>\n",
       "      <th>0</th>\n",
       "      <td>1</td>\n",
       "      <td>GREATEST HITS</td>\n",
       "      <td>QUEEN</td>\n",
       "      <td>1981</td>\n",
       "    </tr>\n",
       "    <tr>\n",
       "      <th>1</th>\n",
       "      <td>2</td>\n",
       "      <td>GOLD - GREATEST HITS</td>\n",
       "      <td>ABBA</td>\n",
       "      <td>1992</td>\n",
       "    </tr>\n",
       "    <tr>\n",
       "      <th>2</th>\n",
       "      <td>3</td>\n",
       "      <td>SGT PEPPER'S LONELY HEARTS CLUB BAND</td>\n",
       "      <td>BEATLES</td>\n",
       "      <td>1967</td>\n",
       "    </tr>\n",
       "    <tr>\n",
       "      <th>58</th>\n",
       "      <td>59</td>\n",
       "      <td>NEVER FORGET - THE ULTIMATE COLLECTION</td>\n",
       "      <td>TAKE THAT</td>\n",
       "      <td>2005</td>\n",
       "    </tr>\n",
       "    <tr>\n",
       "      <th>59</th>\n",
       "      <td>60</td>\n",
       "      <td>AUTOMATIC FOR THE PEOPLE</td>\n",
       "      <td>REM</td>\n",
       "      <td>1992</td>\n",
       "    </tr>\n",
       "  </tbody>\n",
       "</table>\n",
       "</div>"
      ],
      "text/plain": [
       "    Pos                                   Tytuł    Artysta   Rok\n",
       "0     1                           GREATEST HITS      QUEEN  1981\n",
       "1     2                    GOLD - GREATEST HITS       ABBA  1992\n",
       "2     3    SGT PEPPER'S LONELY HEARTS CLUB BAND    BEATLES  1967\n",
       "58   59  NEVER FORGET - THE ULTIMATE COLLECTION  TAKE THAT  2005\n",
       "59   60                AUTOMATIC FOR THE PEOPLE        REM  1992"
      ]
     },
     "execution_count": 276,
     "metadata": {},
     "output_type": "execute_result"
    }
   ],
   "source": [
    "# 5 Drop the Max Poz column\n",
    "#albums.drop(\"Max Poz\", axis=1, inplace = True)\n",
    "albums.iloc[[0,1,2,-2,-1],:]"
   ]
  },
  {
   "cell_type": "code",
   "execution_count": 75,
   "id": "f8a806e1",
   "metadata": {},
   "outputs": [],
   "source": [
    "# 6 Year with the most accurances"
   ]
  },
  {
   "cell_type": "code",
   "execution_count": 297,
   "id": "d558d8b6",
   "metadata": {},
   "outputs": [],
   "source": [
    "pd.set_option('display.max_rows', 5)# or None  # or 1000"
   ]
  },
  {
   "cell_type": "code",
   "execution_count": 299,
   "id": "56c3b64f",
   "metadata": {},
   "outputs": [
    {
     "data": {
      "text/plain": [
       "2000    4\n",
       "1987    4\n",
       "       ..\n",
       "1967    1\n",
       "2010    1\n",
       "Name: Rok, Length: 37, dtype: int64"
      ]
     },
     "execution_count": 299,
     "metadata": {},
     "output_type": "execute_result"
    }
   ],
   "source": [
    "aList = albums['Rok'].value_counts()\n",
    "aList"
   ]
  },
  {
   "cell_type": "code",
   "execution_count": 300,
   "id": "30264c5a",
   "metadata": {},
   "outputs": [
    {
     "data": {
      "text/plain": [
       "pandas.core.series.Series"
      ]
     },
     "execution_count": 300,
     "metadata": {},
     "output_type": "execute_result"
    }
   ],
   "source": [
    "pd.set_option('display.max_rows', None)  \n",
    "type(aList)"
   ]
  },
  {
   "cell_type": "code",
   "execution_count": 301,
   "id": "78a6ec85",
   "metadata": {},
   "outputs": [
    {
     "data": {
      "text/plain": [
       "2000    4\n",
       "1987    4\n",
       "Name: Rok, dtype: int64"
      ]
     },
     "execution_count": 301,
     "metadata": {},
     "output_type": "execute_result"
    }
   ],
   "source": [
    "aList[aList == max(aList)]"
   ]
  },
  {
   "cell_type": "code",
   "execution_count": 302,
   "id": "b61a7fd5",
   "metadata": {},
   "outputs": [],
   "source": [
    "# 7 number of albums between 1960 and 1990(inclusive) on the list"
   ]
  },
  {
   "cell_type": "code",
   "execution_count": 303,
   "id": "e881820b",
   "metadata": {},
   "outputs": [
    {
     "data": {
      "text/plain": [
       "21"
      ]
     },
     "execution_count": 303,
     "metadata": {},
     "output_type": "execute_result"
    }
   ],
   "source": [
    "len(albums[(albums['Rok']>=1960) & (albums['Rok']<1990) ])"
   ]
  },
  {
   "cell_type": "code",
   "execution_count": 304,
   "id": "2c9c781b",
   "metadata": {},
   "outputs": [],
   "source": [
    "# 8 W którym roku wydany został najmłodszy album na liście?"
   ]
  },
  {
   "cell_type": "code",
   "execution_count": 305,
   "id": "5a0827fe",
   "metadata": {},
   "outputs": [
    {
     "data": {
      "text/plain": [
       "2015"
      ]
     },
     "execution_count": 305,
     "metadata": {},
     "output_type": "execute_result"
    }
   ],
   "source": [
    "max(albums['Rok'])"
   ]
  },
  {
   "cell_type": "code",
   "execution_count": null,
   "id": "df4731e0",
   "metadata": {},
   "outputs": [],
   "source": [
    "# 9 Przygotuj listę najwcześniej wydanych albumów każdego artysty, który znalazł się na liście."
   ]
  },
  {
   "cell_type": "code",
   "execution_count": 307,
   "id": "41410414",
   "metadata": {},
   "outputs": [
    {
     "data": {
      "text/html": [
       "<div>\n",
       "<style scoped>\n",
       "    .dataframe tbody tr th:only-of-type {\n",
       "        vertical-align: middle;\n",
       "    }\n",
       "\n",
       "    .dataframe tbody tr th {\n",
       "        vertical-align: top;\n",
       "    }\n",
       "\n",
       "    .dataframe thead th {\n",
       "        text-align: right;\n",
       "    }\n",
       "</style>\n",
       "<table border=\"1\" class=\"dataframe\">\n",
       "  <thead>\n",
       "    <tr style=\"text-align: right;\">\n",
       "      <th></th>\n",
       "      <th>Pos</th>\n",
       "      <th>Tytuł</th>\n",
       "      <th>Artysta</th>\n",
       "      <th>Rok</th>\n",
       "    </tr>\n",
       "  </thead>\n",
       "  <tbody>\n",
       "    <tr>\n",
       "      <th>0</th>\n",
       "      <td>1</td>\n",
       "      <td>GREATEST HITS</td>\n",
       "      <td>QUEEN</td>\n",
       "      <td>1981</td>\n",
       "    </tr>\n",
       "    <tr>\n",
       "      <th>1</th>\n",
       "      <td>2</td>\n",
       "      <td>GOLD - GREATEST HITS</td>\n",
       "      <td>ABBA</td>\n",
       "      <td>1992</td>\n",
       "    </tr>\n",
       "    <tr>\n",
       "      <th>2</th>\n",
       "      <td>3</td>\n",
       "      <td>SGT PEPPER'S LONELY HEARTS CLUB BAND</td>\n",
       "      <td>BEATLES</td>\n",
       "      <td>1967</td>\n",
       "    </tr>\n",
       "    <tr>\n",
       "      <th>58</th>\n",
       "      <td>59</td>\n",
       "      <td>NEVER FORGET - THE ULTIMATE COLLECTION</td>\n",
       "      <td>TAKE THAT</td>\n",
       "      <td>2005</td>\n",
       "    </tr>\n",
       "    <tr>\n",
       "      <th>59</th>\n",
       "      <td>60</td>\n",
       "      <td>AUTOMATIC FOR THE PEOPLE</td>\n",
       "      <td>REM</td>\n",
       "      <td>1992</td>\n",
       "    </tr>\n",
       "  </tbody>\n",
       "</table>\n",
       "</div>"
      ],
      "text/plain": [
       "    Pos                                   Tytuł    Artysta   Rok\n",
       "0     1                           GREATEST HITS      QUEEN  1981\n",
       "1     2                    GOLD - GREATEST HITS       ABBA  1992\n",
       "2     3    SGT PEPPER'S LONELY HEARTS CLUB BAND    BEATLES  1967\n",
       "58   59  NEVER FORGET - THE ULTIMATE COLLECTION  TAKE THAT  2005\n",
       "59   60                AUTOMATIC FOR THE PEOPLE        REM  1992"
      ]
     },
     "execution_count": 307,
     "metadata": {},
     "output_type": "execute_result"
    }
   ],
   "source": [
    "\n",
    "albums.iloc[[0,1,2,-2,-1]]"
   ]
  },
  {
   "cell_type": "code",
   "execution_count": 193,
   "id": "c1789e69",
   "metadata": {},
   "outputs": [],
   "source": [
    "alSorted = albums.sort_values(by=['Artysta','Rok'])\n",
    "alSortedPart =alSorted[['Artysta','Tytuł','Rok']]\n",
    "#,\"Tytuł\",\"Rok\"]"
   ]
  },
  {
   "cell_type": "code",
   "execution_count": 152,
   "id": "668ac669",
   "metadata": {},
   "outputs": [
    {
     "data": {
      "text/plain": [
       "pandas.core.frame.DataFrame"
      ]
     },
     "execution_count": 152,
     "metadata": {},
     "output_type": "execute_result"
    }
   ],
   "source": [
    "type(alSorted)"
   ]
  },
  {
   "cell_type": "code",
   "execution_count": 309,
   "id": "743e4d99",
   "metadata": {},
   "outputs": [
    {
     "name": "stdout",
     "output_type": "stream",
     "text": [
      "Artysta\n",
      "ABBA     1975\n",
      "ADELE    2011\n",
      "         ... \n",
      "U2       1987\n",
      "VERVE    1997\n",
      "Name: Rok, Length: 47, dtype: int64\n"
     ]
    }
   ],
   "source": [
    "minRok = albums.groupby(['Artysta']).min('Rok')[\"Rok\"]\n",
    "#type(minRok)\n",
    "pd.set_option('display.max_rows', 5)# or None  # or 1000\n",
    "print(minRok)\n",
    "pd.set_option('display.max_rows', None)# or None  # or 1000"
   ]
  },
  {
   "cell_type": "code",
   "execution_count": 310,
   "id": "a449ef81",
   "metadata": {},
   "outputs": [],
   "source": [
    "almostThere = alSortedPart.join(minRok,on =\"Artysta\",lsuffix =\"_x\",rsuffix =\"_y\")\n",
    "#almostThere"
   ]
  },
  {
   "cell_type": "code",
   "execution_count": 311,
   "id": "f3785436",
   "metadata": {},
   "outputs": [],
   "source": [
    "Finish =almostThere[almostThere['Rok_x'] == almostThere['Rok_y']][['Artysta','Tytuł','Rok_x']]"
   ]
  },
  {
   "cell_type": "code",
   "execution_count": 315,
   "id": "ca40ec49",
   "metadata": {},
   "outputs": [
    {
     "data": {
      "text/html": [
       "<div>\n",
       "<style scoped>\n",
       "    .dataframe tbody tr th:only-of-type {\n",
       "        vertical-align: middle;\n",
       "    }\n",
       "\n",
       "    .dataframe tbody tr th {\n",
       "        vertical-align: top;\n",
       "    }\n",
       "\n",
       "    .dataframe thead th {\n",
       "        text-align: right;\n",
       "    }\n",
       "</style>\n",
       "<table border=\"1\" class=\"dataframe\">\n",
       "  <thead>\n",
       "    <tr style=\"text-align: right;\">\n",
       "      <th></th>\n",
       "      <th>Artysta</th>\n",
       "      <th>Tytuł</th>\n",
       "      <th>Rok_x</th>\n",
       "    </tr>\n",
       "  </thead>\n",
       "  <tbody>\n",
       "    <tr>\n",
       "      <th>45</th>\n",
       "      <td>ABBA</td>\n",
       "      <td>GREATEST HITS</td>\n",
       "      <td>1975</td>\n",
       "    </tr>\n",
       "    <tr>\n",
       "      <th>3</th>\n",
       "      <td>ADELE</td>\n",
       "      <td>21</td>\n",
       "      <td>2011</td>\n",
       "    </tr>\n",
       "    <tr>\n",
       "      <th>40</th>\n",
       "      <td>ALANIS MORISSETTE</td>\n",
       "      <td>JAGGED LITTLE PILL</td>\n",
       "      <td>1995</td>\n",
       "    </tr>\n",
       "    <tr>\n",
       "      <th>42</th>\n",
       "      <td>TRAVIS</td>\n",
       "      <td>THE MAN WHO</td>\n",
       "      <td>1999</td>\n",
       "    </tr>\n",
       "    <tr>\n",
       "      <th>35</th>\n",
       "      <td>U2</td>\n",
       "      <td>THE JOSHUA TREE</td>\n",
       "      <td>1987</td>\n",
       "    </tr>\n",
       "    <tr>\n",
       "      <th>17</th>\n",
       "      <td>VERVE</td>\n",
       "      <td>URBAN HYMNS</td>\n",
       "      <td>1997</td>\n",
       "    </tr>\n",
       "  </tbody>\n",
       "</table>\n",
       "</div>"
      ],
      "text/plain": [
       "              Artysta               Tytuł  Rok_x\n",
       "45               ABBA       GREATEST HITS   1975\n",
       "3               ADELE                  21   2011\n",
       "40  ALANIS MORISSETTE  JAGGED LITTLE PILL   1995\n",
       "42             TRAVIS         THE MAN WHO   1999\n",
       "35                 U2     THE JOSHUA TREE   1987\n",
       "17              VERVE         URBAN HYMNS   1997"
      ]
     },
     "execution_count": 315,
     "metadata": {},
     "output_type": "execute_result"
    }
   ],
   "source": [
    "Finish.iloc[[0,1,2,-3,-2,-1]]"
   ]
  },
  {
   "cell_type": "code",
   "execution_count": null,
   "id": "62ea8ee0",
   "metadata": {},
   "outputs": [],
   "source": [
    "#10 Save list to a csv. file"
   ]
  },
  {
   "cell_type": "code",
   "execution_count": 316,
   "id": "9b791df4",
   "metadata": {},
   "outputs": [],
   "source": [
    "Finish.to_csv('GreatestHitList.csv', index = False)"
   ]
  },
  {
   "cell_type": "code",
   "execution_count": null,
   "id": "e4f8f22b",
   "metadata": {},
   "outputs": [],
   "source": []
  }
 ],
 "metadata": {
  "kernelspec": {
   "display_name": "Python 3 (ipykernel)",
   "language": "python",
   "name": "python3"
  },
  "language_info": {
   "codemirror_mode": {
    "name": "ipython",
    "version": 3
   },
   "file_extension": ".py",
   "mimetype": "text/x-python",
   "name": "python",
   "nbconvert_exporter": "python",
   "pygments_lexer": "ipython3",
   "version": "3.11.1"
  }
 },
 "nbformat": 4,
 "nbformat_minor": 5
}
